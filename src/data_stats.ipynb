{
 "cells": [
  {
   "cell_type": "markdown",
   "metadata": {},
   "source": [
    "# Data set statistics\n",
    "_Script for generating visualisations of the CRM2 corpus, used as trainign material for the LSTM-model._"
   ]
  },
  {
   "cell_type": "code",
   "execution_count": 1,
   "metadata": {},
   "outputs": [
    {
     "name": "stderr",
     "output_type": "stream",
     "text": [
      "/Users/WHaverals/anaconda/lib/python3.5/site-packages/matplotlib/font_manager.py:273: UserWarning: Matplotlib is building the font cache using fc-list. This may take a moment.\n",
      "  warnings.warn('Matplotlib is building the font cache using fc-list. This may take a moment.')\n",
      "/Users/WHaverals/anaconda/lib/python3.5/site-packages/matplotlib/font_manager.py:273: UserWarning: Matplotlib is building the font cache using fc-list. This may take a moment.\n",
      "  warnings.warn('Matplotlib is building the font cache using fc-list. This may take a moment.')\n"
     ]
    }
   ],
   "source": [
    "import pandas as pd\n",
    "import matplotlib.pyplot as plt\n",
    "from matplotlib import rc\n",
    "from collections import Counter\n",
    "%matplotlib inline\n",
    "\n",
    "rc('font',**{'family':'serif','serif':['Palatino']})\n",
    "rc('text', usetex=True)\n",
    "plt.rc('axes', axisbelow=True)"
   ]
  },
  {
   "cell_type": "markdown",
   "metadata": {},
   "source": [
    "### Load the data. Print size of the corpus and the longest word."
   ]
  },
  {
   "cell_type": "code",
   "execution_count": 2,
   "metadata": {},
   "outputs": [
    {
     "name": "stdout",
     "output_type": "stream",
     "text": [
      "Number of words: 43710\n",
      "Longest word: sin-te-ly-co-laus-ghil-de-broe-ders\n"
     ]
    }
   ],
   "source": [
    "words = [line.strip() for line in open('../data/crm2.txt', 'r')]\n",
    "set_words = set(words)\n",
    "\n",
    "#cnt = Counter(words)\n",
    "#print(cnt.most_common)\n",
    "\n",
    "print('Number of words:', len(words))\n",
    "print('Longest word:', max(words, key=len))"
   ]
  },
  {
   "cell_type": "markdown",
   "metadata": {
    "collapsed": true
   },
   "source": [
    "### Distribution of number of syllables"
   ]
  },
  {
   "cell_type": "code",
   "execution_count": 3,
   "metadata": {},
   "outputs": [
    {
     "name": "stdout",
     "output_type": "stream",
     "text": [
      "count    43710.000000\n",
      "mean         2.640082\n",
      "std          0.963729\n",
      "min          1.000000\n",
      "25%          2.000000\n",
      "50%          3.000000\n",
      "75%          3.000000\n",
      "max          9.000000\n",
      "dtype: float64\n"
     ]
    }
   ],
   "source": [
    "num_syls = [len(word.split('-')) for word in words]\n",
    "df = pd.Series(num_syls)\n",
    "print(df.describe())"
   ]
  },
  {
   "cell_type": "code",
   "execution_count": 4,
   "metadata": {},
   "outputs": [
    {
     "name": "stdout",
     "output_type": "stream",
     "text": [
      "<class 'pandas.core.series.Series'>\n"
     ]
    },
    {
     "data": {
      "image/png": "[encoded data removed]",
      "text/plain": [
       "<matplotlib.figure.Figure at 0x118247080>"
      ]
     },
     "metadata": {},
     "output_type": "display_data"
    }
   ],
   "source": [
    "print(type(df))\n",
    "ax = df.value_counts().sort_index().plot(kind='bar')\n",
    "plt.rc('text', usetex=True)\n",
    "plt.rc('font', family='serif')\n",
    "\n",
    "\n",
    "ax.set_xlabel(\"number of syllables\")\n",
    "ax.set_ylabel(\"number of words\")\n",
    "ax.set_title(\"Distribution of number of syllables per word\")\n",
    "ax.grid(alpha=0.4, color='lightgrey', linestyle='solid', axis='y', zorder=0)\n",
    "plt.hlines\n",
    "plt.title(r\"Distribution of number of syllables per word\",\n",
    "          fontsize=12, color='black')\n",
    "\n",
    "fig = ax.get_figure()\n",
    "fig.savefig('distribution_sylls_per_word.svg')"
   ]
  },
  {
   "cell_type": "markdown",
   "metadata": {},
   "source": [
    "### Distribution of characters per syllable"
   ]
  },
  {
   "cell_type": "code",
   "execution_count": 5,
   "metadata": {
    "collapsed": true
   },
   "outputs": [],
   "source": [
    "syll_lens = []\n",
    "for word in words:\n",
    "    for syllable in word.split('-'):\n",
    "        syll_lens.append(len(syllable))"
   ]
  },
  {
   "cell_type": "code",
   "execution_count": 6,
   "metadata": {},
   "outputs": [
    {
     "data": {
      "text/plain": [
       "count    115398.000000\n",
       "mean          3.049420\n",
       "std           1.013164\n",
       "min           1.000000\n",
       "25%           2.000000\n",
       "50%           3.000000\n",
       "75%           4.000000\n",
       "max           9.000000\n",
       "dtype: float64"
      ]
     },
     "execution_count": 6,
     "metadata": {},
     "output_type": "execute_result"
    }
   ],
   "source": [
    "df_sylls = pd.Series(syll_lens)\n",
    "df_sylls.describe()"
   ]
  },
  {
   "cell_type": "code",
   "execution_count": 7,
   "metadata": {},
   "outputs": [
    {
     "data": {
      "image/png": "[encoded data removed]",
      "text/plain": [
       "<matplotlib.figure.Figure at 0x11d42ac50>"
      ]
     },
     "metadata": {},
     "output_type": "display_data"
    }
   ],
   "source": [
    "ax = df_sylls.value_counts().sort_index().plot(kind='bar')\n",
    "\n",
    "plt.rc('text', usetex=True)\n",
    "plt.rc('font', family='serif')\n",
    "\n",
    "ax.set_xlabel(\"number of characters\")\n",
    "ax.set_ylabel(\"number of syllables\")\n",
    "ax.set_title(\"Distribution of numbers of characters per syllable\")\n",
    "\n",
    "ax.grid(alpha=0.4, color='lightgrey', linestyle='solid', axis='y', zorder=0)\n",
    "plt.hlines\n",
    "\n",
    "plt.title(r\"Distribution of number of characters per syllable\",\n",
    "          fontsize=12, color='black')\n",
    "\n",
    "fig = ax.get_figure()\n",
    "fig.savefig('distribution_char_per_syl.svg')"
   ]
  },
  {
   "cell_type": "markdown",
   "metadata": {},
   "source": [
    "### Distribution of characters per word"
   ]
  },
  {
   "cell_type": "code",
   "execution_count": 8,
   "metadata": {
    "scrolled": true
   },
   "outputs": [
    {
     "name": "stdout",
     "output_type": "stream",
     "text": [
      "count    43710.000000\n",
      "mean         8.050721\n",
      "std          2.545019\n",
      "min          1.000000\n",
      "25%          6.000000\n",
      "50%          8.000000\n",
      "75%         10.000000\n",
      "max         27.000000\n",
      "dtype: float64\n",
      "sin-te-ly-co-laus-ghil-de-broe-ders\n"
     ]
    },
    {
     "data": {
      "image/png": "[encoded data removed]",
      "text/plain": [
       "<matplotlib.figure.Figure at 0x11dc08390>"
      ]
     },
     "metadata": {},
     "output_type": "display_data"
    }
   ],
   "source": [
    "lenght_words = [len(word.replace('-', '')) for word in words]\n",
    "\n",
    "df_words = pd.Series(lenght_words)\n",
    "df_words.describe()\n",
    "print(df_words.describe())\n",
    "\n",
    "longest_word = ''\n",
    "for word in words:\n",
    "    if len(word) > len(longest_word):\n",
    "        longest_word = word\n",
    "print(longest_word)\n",
    "\n",
    "ax = df_words.value_counts().sort_index().plot(kind='bar')\n",
    "\n",
    "plt.rc('text', usetex=True)\n",
    "plt.rc('font', family='serif')\n",
    "\n",
    "ax.set_xlabel(\"number of characters\")\n",
    "ax.set_ylabel(\"number of words\")\n",
    "ax.set_title(\"Distribution of number of characters per word\")\n",
    "\n",
    "ax.grid(alpha=0.4, color='lightgrey', linestyle='solid', axis='y', zorder=0)\n",
    "plt.hlines\n",
    "\n",
    "plt.title(r\"Distribution of number of characters per word\",\n",
    "          fontsize=12, color='black')\n",
    "\n",
    "fig = ax.get_figure()\n",
    "fig.savefig('distribution_char_per_word.svg')"
   ]
  },
  {
   "cell_type": "markdown",
   "metadata": {
    "collapsed": true
   },
   "source": [
    "-------"
   ]
  }
 ],
 "metadata": {
  "kernelspec": {
   "display_name": "Python 3",
   "language": "python",
   "name": "python3"
  },
  "language_info": {
   "codemirror_mode": {
    "name": "ipython",
    "version": 3
   },
   "file_extension": ".py",
   "mimetype": "text/x-python",
   "name": "python",
   "nbconvert_exporter": "python",
   "pygments_lexer": "ipython3",
   "version": "3.5.3"
  }
 },
 "nbformat": 4,
 "nbformat_minor": 2
}
